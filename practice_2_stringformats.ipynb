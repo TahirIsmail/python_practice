{
 "cells": [
  {
   "cell_type": "code",
   "execution_count": null,
   "metadata": {},
   "outputs": [],
   "source": [
    "print('My name is a {N} and I,m a AIPIAC Student in {P} m looking after to be good then better and overall {b} at it'.format(N='TahirIsmail',P='Islamabad',b='best'))\n",
    "\n",
    "\n",
    "\n"
   ]
  },
  {
   "cell_type": "markdown",
   "metadata": {},
   "source": [
    "Now we Look at how we are gonna Format ploating point numbers"
   ]
  },
  {
   "cell_type": "code",
   "execution_count": 18,
   "metadata": {},
   "outputs": [
    {
     "name": "stdout",
     "output_type": "stream",
     "text": [
      "33045.796619211\n"
     ]
    }
   ],
   "source": [
    "result = 7743423247/234324\n",
    "print(result)"
   ]
  },
  {
   "cell_type": "code",
   "execution_count": 22,
   "metadata": {},
   "outputs": [
    {
     "name": "stdout",
     "output_type": "stream",
     "text": [
      "This is a precised result that we are gonna formulate here which is 33045.79662\n"
     ]
    }
   ],
   "source": [
    "print('This is a precised result that we are gonna formulate here which is {r:1.5f}'.format(r=result))"
   ]
  },
  {
   "cell_type": "code",
   "execution_count": 23,
   "metadata": {},
   "outputs": [
    {
     "name": "stdout",
     "output_type": "stream",
     "text": [
      "This is a Hakuna Matata \n"
     ]
    }
   ],
   "source": [
    "name = 'Hakuna Matata'\n",
    "print(f'This is a {name} ')"
   ]
  },
  {
   "cell_type": "code",
   "execution_count": 27,
   "metadata": {},
   "outputs": [
    {
     "name": "stdout",
     "output_type": "stream",
     "text": [
      "Hakuna Matata is 21 years old now ,give him a round of applaud\n"
     ]
    }
   ],
   "source": [
    "age = 21\n",
    "print(f'{name} is {age} years old now ,give him a round of applaud')"
   ]
  },
  {
   "cell_type": "markdown",
   "metadata": {},
   "source": [
    "List and Sets\n"
   ]
  },
  {
   "cell_type": "code",
   "execution_count": 58,
   "metadata": {},
   "outputs": [
    {
     "data": {
      "text/plain": [
       "set"
      ]
     },
     "execution_count": 58,
     "metadata": {},
     "output_type": "execute_result"
    }
   ],
   "source": [
    "my_lusty_list = [3,6,7,9]\n",
    "type(my_lusty_list)\n",
    "my_lusty_set = {'Myname',987,387,298,934}\n",
    "type(my_lusty_set)"
   ]
  },
  {
   "cell_type": "code",
   "execution_count": 36,
   "metadata": {},
   "outputs": [
    {
     "data": {
      "text/plain": [
       "4"
      ]
     },
     "execution_count": 36,
     "metadata": {},
     "output_type": "execute_result"
    }
   ],
   "source": [
    "len(my_lusty_list)"
   ]
  },
  {
   "cell_type": "code",
   "execution_count": 41,
   "metadata": {},
   "outputs": [
    {
     "data": {
      "text/plain": [
       "5"
      ]
     },
     "execution_count": 41,
     "metadata": {},
     "output_type": "execute_result"
    }
   ],
   "source": [
    "len(my_lusty_set)"
   ]
  },
  {
   "cell_type": "code",
   "execution_count": 47,
   "metadata": {},
   "outputs": [
    {
     "data": {
      "text/plain": [
       "[9, 7, 6, 3]"
      ]
     },
     "execution_count": 47,
     "metadata": {},
     "output_type": "execute_result"
    }
   ],
   "source": [
    "my_lusty_list[::-1]"
   ]
  },
  {
   "cell_type": "code",
   "execution_count": 62,
   "metadata": {},
   "outputs": [
    {
     "data": {
      "text/plain": [
       "[3, 6, 7, 9]"
      ]
     },
     "execution_count": 62,
     "metadata": {},
     "output_type": "execute_result"
    }
   ],
   "source": [
    "my_lusty_list[0:4:1]"
   ]
  },
  {
   "cell_type": "code",
   "execution_count": 63,
   "metadata": {},
   "outputs": [
    {
     "name": "stdout",
     "output_type": "stream",
     "text": [
      "{'Myname', 387, 934, 298, 987}\n"
     ]
    }
   ],
   "source": [
    "print(my_lusty_set)"
   ]
  },
  {
   "cell_type": "code",
   "execution_count": 71,
   "metadata": {},
   "outputs": [],
   "source": [
    "another_lusty_list = ['Naa tu','Ayegi','Na Hi Chain Ayega']\n",
    "my_lusty_list=my_lusty_list+another_lusty_list\n"
   ]
  },
  {
   "cell_type": "code",
   "execution_count": 72,
   "metadata": {},
   "outputs": [
    {
     "name": "stdout",
     "output_type": "stream",
     "text": [
      "[3, 6, 7, 9, 'Naa tu', 'Ayegi', 'Na Hi Chain Ayega', 'Naa tu', 'Ayegi', 'Na Hi Chain Ayega', 'Naa tu', 'Ayegi', 'Na Hi Chain Ayega', 'Naa tu', 'Ayegi', 'Na Hi Chain Ayega', 'Naa tu', 'Ayegi', 'Na Hi Chain Ayega']\n"
     ]
    }
   ],
   "source": [
    "print(my_lusty_list)"
   ]
  },
  {
   "cell_type": "code",
   "execution_count": 73,
   "metadata": {},
   "outputs": [
    {
     "data": {
      "text/plain": [
       "'NA HI CHAIN AYEGA'"
      ]
     },
     "execution_count": 73,
     "metadata": {},
     "output_type": "execute_result"
    }
   ],
   "source": [
    "another_lusty_list[2].upper()"
   ]
  },
  {
   "cell_type": "code",
   "execution_count": 79,
   "metadata": {},
   "outputs": [],
   "source": [
    "another_lusty_list.append('Milnay waloun k sbh sawaloun mein ')"
   ]
  },
  {
   "cell_type": "code",
   "execution_count": 80,
   "metadata": {},
   "outputs": [
    {
     "data": {
      "text/plain": [
       "['Naa tu',\n",
       " 'Ayegi',\n",
       " 'Na Hi Chain Ayega',\n",
       " 'Milnay waloun k sbh sawaloun mein ',\n",
       " 'Milnay waloun k sbh sawaloun mein ',\n",
       " 'Milnay waloun k sbh sawaloun mein ']"
      ]
     },
     "execution_count": 80,
     "metadata": {},
     "output_type": "execute_result"
    }
   ],
   "source": [
    "another_lusty_list"
   ]
  },
  {
   "cell_type": "code",
   "execution_count": 83,
   "metadata": {},
   "outputs": [],
   "source": [
    "another_lusty_list.append('Kal bhi tum thi aj bhi tum ho')"
   ]
  },
  {
   "cell_type": "code",
   "execution_count": 85,
   "metadata": {},
   "outputs": [
    {
     "data": {
      "text/plain": [
       "['Naa tu',\n",
       " 'Ayegi',\n",
       " 'Na Hi Chain Ayega',\n",
       " 'Milnay waloun k sbh sawaloun mein ',\n",
       " 'Milnay waloun k sbh sawaloun mein ',\n",
       " 'Milnay waloun k sbh sawaloun mein ',\n",
       " 'Kal bhi tum thi aj bhi tum ho',\n",
       " 'Kal bhi tum thi aj bhi tum ho']"
      ]
     },
     "execution_count": 85,
     "metadata": {},
     "output_type": "execute_result"
    }
   ],
   "source": [
    "another_lusty_list"
   ]
  },
  {
   "cell_type": "code",
   "execution_count": 86,
   "metadata": {},
   "outputs": [
    {
     "data": {
      "text/plain": [
       "'Kal bhi tum thi aj bhi tum ho'"
      ]
     },
     "execution_count": 86,
     "metadata": {},
     "output_type": "execute_result"
    }
   ],
   "source": [
    "another_lusty_list.pop()"
   ]
  },
  {
   "cell_type": "code",
   "execution_count": 87,
   "metadata": {},
   "outputs": [
    {
     "data": {
      "text/plain": [
       "['Naa tu',\n",
       " 'Ayegi',\n",
       " 'Na Hi Chain Ayega',\n",
       " 'Milnay waloun k sbh sawaloun mein ',\n",
       " 'Milnay waloun k sbh sawaloun mein ',\n",
       " 'Milnay waloun k sbh sawaloun mein ',\n",
       " 'Kal bhi tum thi aj bhi tum ho']"
      ]
     },
     "execution_count": 87,
     "metadata": {},
     "output_type": "execute_result"
    }
   ],
   "source": [
    "another_lusty_list"
   ]
  },
  {
   "cell_type": "code",
   "execution_count": 89,
   "metadata": {},
   "outputs": [
    {
     "data": {
      "text/plain": [
       "'Milnay waloun k sbh sawaloun mein '"
      ]
     },
     "execution_count": 89,
     "metadata": {},
     "output_type": "execute_result"
    }
   ],
   "source": [
    "another_lusty_list.pop()"
   ]
  },
  {
   "cell_type": "code",
   "execution_count": 91,
   "metadata": {},
   "outputs": [
    {
     "data": {
      "text/plain": [
       "['Naa tu',\n",
       " 'Ayegi',\n",
       " 'Na Hi Chain Ayega',\n",
       " 'Milnay waloun k sbh sawaloun mein ',\n",
       " 'Milnay waloun k sbh sawaloun mein ']"
      ]
     },
     "execution_count": 91,
     "metadata": {},
     "output_type": "execute_result"
    }
   ],
   "source": [
    "another_lusty_list"
   ]
  },
  {
   "cell_type": "code",
   "execution_count": 92,
   "metadata": {},
   "outputs": [],
   "source": [
    "popped_2nd_last=another_lusty_list.pop()"
   ]
  },
  {
   "cell_type": "code",
   "execution_count": 97,
   "metadata": {},
   "outputs": [
    {
     "data": {
      "text/plain": [
       "'Milnay waloun k sbh sawaloun mein Kal bhi tum thi aj bhi tum ho'"
      ]
     },
     "execution_count": 97,
     "metadata": {},
     "output_type": "execute_result"
    }
   ],
   "source": [
    "popped_2nd_last+'Kal bhi tum thi aj bhi tum ho'"
   ]
  },
  {
   "cell_type": "code",
   "execution_count": 99,
   "metadata": {},
   "outputs": [],
   "source": [
    "my_lusty_list.reverse()"
   ]
  },
  {
   "cell_type": "code",
   "execution_count": 101,
   "metadata": {},
   "outputs": [
    {
     "data": {
      "text/plain": [
       "[3,\n",
       " 6,\n",
       " 7,\n",
       " 9,\n",
       " 'Naa tu',\n",
       " 'Ayegi',\n",
       " 'Na Hi Chain Ayega',\n",
       " 'Naa tu',\n",
       " 'Ayegi',\n",
       " 'Na Hi Chain Ayega',\n",
       " 'Naa tu',\n",
       " 'Ayegi',\n",
       " 'Na Hi Chain Ayega',\n",
       " 'Naa tu',\n",
       " 'Ayegi',\n",
       " 'Na Hi Chain Ayega',\n",
       " 'Naa tu',\n",
       " 'Ayegi',\n",
       " 'Na Hi Chain Ayega']"
      ]
     },
     "execution_count": 101,
     "metadata": {},
     "output_type": "execute_result"
    }
   ],
   "source": [
    "my_lusty_list"
   ]
  },
  {
   "cell_type": "code",
   "execution_count": 103,
   "metadata": {},
   "outputs": [],
   "source": [
    "num_list=[4,3,7,4,9]\n",
    "num_list.reverse()"
   ]
  },
  {
   "cell_type": "code",
   "execution_count": 104,
   "metadata": {},
   "outputs": [
    {
     "data": {
      "text/plain": [
       "[9, 4, 7, 3, 4]"
      ]
     },
     "execution_count": 104,
     "metadata": {},
     "output_type": "execute_result"
    }
   ],
   "source": [
    "num_list"
   ]
  }
 ],
 "metadata": {
  "kernelspec": {
   "display_name": "Python 3",
   "language": "python",
   "name": "python3"
  },
  "language_info": {
   "codemirror_mode": {
    "name": "ipython",
    "version": 3
   },
   "file_extension": ".py",
   "mimetype": "text/x-python",
   "name": "python",
   "nbconvert_exporter": "python",
   "pygments_lexer": "ipython3",
   "version": "3.7.4"
  }
 },
 "nbformat": 4,
 "nbformat_minor": 2
}
